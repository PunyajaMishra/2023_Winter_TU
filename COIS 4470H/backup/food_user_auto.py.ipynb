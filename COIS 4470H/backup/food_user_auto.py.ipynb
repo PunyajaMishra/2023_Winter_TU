{
 "cells": [
  {
   "cell_type": "code",
   "execution_count": 1,
   "id": "bb368009",
   "metadata": {},
   "outputs": [],
   "source": [
    "import pandas as pd\n",
    "import numpy as np\n",
    "import autosklearn.regression as autocl\n",
    "from sklearn.model_selection import train_test_split\n",
    "import sklearn.metrics\n",
    "\n",
    "import sklearn.datasets\n",
    "import matplotlib.pyplot as plt\n",
    "from scipy import stats\n",
    "import xgboost as xgb\n",
    "from autosklearn.metrics import balanced_accuracy, precision, recall, f1\n",
    "from sklearn import (manifold, datasets, preprocessing, model_selection, decomposition, metrics, multioutput)\n",
    "from sklearn.preprocessing import StandardScaler\n",
    "import sklearn.preprocessing"
   ]
  },
  {
   "cell_type": "code",
   "execution_count": 2,
   "id": "91c11bf4",
   "metadata": {},
   "outputs": [
    {
     "name": "stdout",
     "output_type": "stream",
     "text": [
      "Which user's result do you want to look at?: 7\n"
     ]
    }
   ],
   "source": [
    "# select user input\n",
    "user_input = int(input(\"Which user's result do you want to look at?: \"))\n",
    "\n",
    "# read the dataframe\n",
    "data = pd.read_csv('data.csv').astype(float)\n",
    "#hierarchy = pd.read_csv('food_hierarchy.csv')\n",
    "#relations = pd.read_csv('food_symptom_relationship_strength.csv')\n",
    "\n",
    "\n",
    "df = data[data['user_number'] == user_input]\n",
    "\n",
    "# drop all Null data (filtering null values)\n",
    "df.dropna()\n",
    "\n",
    "\n",
    "# split the dataset into training and test data\n",
    "X = df.iloc[:,:-2].values\n",
    "y = df[\"symptom_value\"].values"
   ]
  },
  {
   "cell_type": "code",
   "execution_count": 3,
   "id": "25ac5e46",
   "metadata": {},
   "outputs": [],
   "source": [
    "n_samples = X.shape[0]\n",
    "n_train = int(n_samples * 0.8)\n",
    "indices = np.arange(n_samples)\n",
    "np.random.shuffle(indices)"
   ]
  },
  {
   "cell_type": "code",
   "execution_count": 4,
   "id": "9640db7b",
   "metadata": {},
   "outputs": [],
   "source": [
    "def preprocessing(X):\n",
    "    from sklearn.preprocessing import StandardScaler\n",
    "    import sklearn.preprocessing\n",
    "    std_scaler = StandardScaler()\n",
    "    X = std_scaler.fit_transform(X)\n",
    "    X = sklearn.preprocessing.normalize(X, norm='l2')\n",
    "    return X\n",
    "X = preprocessing(X)"
   ]
  },
  {
   "cell_type": "code",
   "execution_count": 5,
   "id": "772d1cbc",
   "metadata": {},
   "outputs": [],
   "source": [
    "# split the dataset into training and test data\n",
    "train_indices = indices[:n_train]\n",
    "test_indices = indices[n_train:]\n",
    "\n",
    "X_train = X[train_indices]\n",
    "y_train = y[train_indices]\n",
    "\n",
    "X_test = X[test_indices]\n",
    "y_test = y[test_indices]"
   ]
  },
  {
   "cell_type": "code",
   "execution_count": 8,
   "id": "b831d77e",
   "metadata": {},
   "outputs": [
    {
     "name": "stdout",
     "output_type": "stream",
     "text": [
      "[WARNING] [2023-04-16 22:34:04,035:Client-TAE] Target Algorithm returned NaN or inf as quality. Algorithm run is treated as CRASHED, cost is set to 1.0 for quality scenarios. (Change value through \"cost_for_crash\"-option.)\n",
      "[WARNING] [2023-04-16 22:34:08,197:Client-TAE] Target Algorithm returned NaN or inf as quality. Algorithm run is treated as CRASHED, cost is set to 1.0 for quality scenarios. (Change value through \"cost_for_crash\"-option.)\n",
      "[WARNING] [2023-04-16 22:34:13,913:Client-TAE] Target Algorithm returned NaN or inf as quality. Algorithm run is treated as CRASHED, cost is set to 1.0 for quality scenarios. (Change value through \"cost_for_crash\"-option.)\n",
      "[WARNING] [2023-04-16 22:34:19,590:Client-TAE] Target Algorithm returned NaN or inf as quality. Algorithm run is treated as CRASHED, cost is set to 1.0 for quality scenarios. (Change value through \"cost_for_crash\"-option.)\n",
      "[WARNING] [2023-04-16 22:34:25,679:Client-TAE] Target Algorithm returned NaN or inf as quality. Algorithm run is treated as CRASHED, cost is set to 1.0 for quality scenarios. (Change value through \"cost_for_crash\"-option.)\n",
      "[WARNING] [2023-04-16 22:34:29,852:Client-TAE] Target Algorithm returned NaN or inf as quality. Algorithm run is treated as CRASHED, cost is set to 1.0 for quality scenarios. (Change value through \"cost_for_crash\"-option.)\n",
      "[WARNING] [2023-04-16 22:34:35,023:Client-TAE] Target Algorithm returned NaN or inf as quality. Algorithm run is treated as CRASHED, cost is set to 1.0 for quality scenarios. (Change value through \"cost_for_crash\"-option.)\n",
      "[WARNING] [2023-04-16 22:34:40,954:Client-TAE] Target Algorithm returned NaN or inf as quality. Algorithm run is treated as CRASHED, cost is set to 1.0 for quality scenarios. (Change value through \"cost_for_crash\"-option.)\n",
      "[WARNING] [2023-04-16 22:34:46,673:Client-TAE] Target Algorithm returned NaN or inf as quality. Algorithm run is treated as CRASHED, cost is set to 1.0 for quality scenarios. (Change value through \"cost_for_crash\"-option.)\n",
      "[WARNING] [2023-04-16 22:34:50,476:Client-TAE] Target Algorithm returned NaN or inf as quality. Algorithm run is treated as CRASHED, cost is set to 1.0 for quality scenarios. (Change value through \"cost_for_crash\"-option.)\n",
      "[WARNING] [2023-04-16 22:34:55,981:Client-TAE] Target Algorithm returned NaN or inf as quality. Algorithm run is treated as CRASHED, cost is set to 1.0 for quality scenarios. (Change value through \"cost_for_crash\"-option.)\n",
      "[WARNING] [2023-04-16 22:35:05,367:Client-TAE] Target Algorithm returned NaN or inf as quality. Algorithm run is treated as CRASHED, cost is set to 1.0 for quality scenarios. (Change value through \"cost_for_crash\"-option.)\n",
      "[WARNING] [2023-04-16 22:35:08,967:Client-TAE] Target Algorithm returned NaN or inf as quality. Algorithm run is treated as CRASHED, cost is set to 1.0 for quality scenarios. (Change value through \"cost_for_crash\"-option.)\n",
      "[WARNING] [2023-04-16 22:35:17,814:Client-TAE] Target Algorithm returned NaN or inf as quality. Algorithm run is treated as CRASHED, cost is set to 1.0 for quality scenarios. (Change value through \"cost_for_crash\"-option.)\n",
      "[WARNING] [2023-04-16 22:35:21,637:Client-TAE] Target Algorithm returned NaN or inf as quality. Algorithm run is treated as CRASHED, cost is set to 1.0 for quality scenarios. (Change value through \"cost_for_crash\"-option.)\n",
      "[WARNING] [2023-04-16 22:35:25,711:Client-TAE] Target Algorithm returned NaN or inf as quality. Algorithm run is treated as CRASHED, cost is set to 1.0 for quality scenarios. (Change value through \"cost_for_crash\"-option.)\n",
      "[WARNING] [2023-04-16 22:35:32,490:Client-TAE] Target Algorithm returned NaN or inf as quality. Algorithm run is treated as CRASHED, cost is set to 1.0 for quality scenarios. (Change value through \"cost_for_crash\"-option.)\n",
      "[WARNING] [2023-04-16 22:35:38,340:Client-TAE] Target Algorithm returned NaN or inf as quality. Algorithm run is treated as CRASHED, cost is set to 1.0 for quality scenarios. (Change value through \"cost_for_crash\"-option.)\n",
      "Before re-fit\n",
      "Test R2 score: -11.495819253419079\n",
      "################################################################################\n",
      "After re-fit\n",
      "Test R2 score: -13.67278858198264\n",
      "################################################################################\n"
     ]
    }
   ],
   "source": [
    "# train the module\n",
    "automl = autocl.AutoSklearnRegressor(\n",
    "    time_left_for_this_task = 120,\n",
    "    per_run_time_limit = 30,\n",
    "    disable_evaluator_output = False,\n",
    "    resampling_strategy = \"cv\",\n",
    "    resampling_strategy_arguments = {\"folds\": 10},\n",
    ")\n",
    "automl.fit(X_train, y_train, dataset_name='IBS')\n",
    "print(\"Before re-fit\")\n",
    "predictions = automl.predict(X_test)\n",
    "print(\"Test R2 score:\", sklearn.metrics.r2_score(y_test, predictions))\n",
    "print(\"#\" * 80)\n",
    "print(\"After re-fit\")\n",
    "automl.refit(X_train.copy(), y_train.copy())\n",
    "# pickle.dump(automl, open('model.sav', 'wb'))\n",
    "predictions = automl.predict(X_test)\n",
    "print(\"Test R2 score:\", sklearn.metrics.r2_score(y_test, predictions))\n",
    "print(\"#\" * 80)\n",
    "\n",
    "# automl.fit(X_train, y_train)"
   ]
  },
  {
   "cell_type": "code",
   "execution_count": 9,
   "id": "63a06c50",
   "metadata": {},
   "outputs": [
    {
     "name": "stdout",
     "output_type": "stream",
     "text": [
      "          rank  ensemble_weight              type  cost  duration\n",
      "model_id                                                         \n",
      "3            1             0.82  gaussian_process   1.0  4.092639\n",
      "14           2             0.18     liblinear_svr   1.0  3.529416\n"
     ]
    }
   ],
   "source": [
    "# print the results\n",
    "print(automl.leaderboard())"
   ]
  },
  {
   "cell_type": "code",
   "execution_count": 10,
   "id": "984b4b2b",
   "metadata": {},
   "outputs": [],
   "source": [
    "# print the accuracy\n",
    "predictions = automl.predict(X_test)"
   ]
  },
  {
   "cell_type": "code",
   "execution_count": 11,
   "id": "09227ba9",
   "metadata": {},
   "outputs": [
    {
     "name": "stdout",
     "output_type": "stream",
     "text": [
      "Test R2 score: -13.67278858198264\n"
     ]
    }
   ],
   "source": [
    "print(\"Test R2 score:\", sklearn.metrics.r2_score(y_test, predictions))"
   ]
  },
  {
   "cell_type": "code",
   "execution_count": 12,
   "id": "2dc124e0",
   "metadata": {},
   "outputs": [
    {
     "data": {
      "image/png": "[encoded data removed]",
      "text/plain": [
       "<Figure size 640x480 with 1 Axes>"
      ]
     },
     "metadata": {},
     "output_type": "display_data"
    }
   ],
   "source": [
    "plt.scatter(predictions,y_test,label=\"Train smaples\",c=\"magenta\")\n",
    "plt.title('True vs Predicted')\n",
    "plt.xlabel(\"Predicted Value\")\n",
    "plt.ylabel(\"True Value\")\n",
    "plt.legend()\n",
    "plt.xlim([0,5])\n",
    "plt.ylim([0,5])\n",
    "plt.tight_layout()\n",
    "plt.show()\n"
   ]
  }
 ],
 "metadata": {
  "kernelspec": {
   "display_name": "Python 3 (ipykernel)",
   "language": "python",
   "name": "python3"
  },
  "language_info": {
   "codemirror_mode": {
    "name": "ipython",
    "version": 3
   },
   "file_extension": ".py",
   "mimetype": "text/x-python",
   "name": "python",
   "nbconvert_exporter": "python",
   "pygments_lexer": "ipython3",
   "version": "3.10.9"
  }
 },
 "nbformat": 4,
 "nbformat_minor": 5
}
