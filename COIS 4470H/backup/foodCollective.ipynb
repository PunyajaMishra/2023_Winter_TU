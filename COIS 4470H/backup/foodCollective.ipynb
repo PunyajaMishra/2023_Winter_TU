{
 "cells": [
  {
   "cell_type": "code",
   "execution_count": null,
   "id": "6d79cc89",
   "metadata": {},
   "outputs": [],
   "source": [
    "#to import data\n",
    "import shap\n",
    "import pandas as pd\n",
    "import xgboost as xgb\n",
    "import statsmodels.api as sm\n",
    "import matplotlib.pyplot as plt\n",
    "from sklearn.inspection import permutation_importance\n",
    "from sklearn.metrics import r2_score\n",
    "from sklearn.model_selection import train_test_split\n",
    "from sklearn.inspection import permutation_importance"
   ]
  },
  {
   "cell_type": "code",
   "execution_count": null,
   "id": "e4c3efd3",
   "metadata": {},
   "outputs": [],
   "source": [
    "CONSTRAINT = 0.3\n",
    "MAX_USERS = 50\n",
    "\n",
    "# read the dataframe\n",
    "data = pd.read_csv('data.csv')"
   ]
  },
  {
   "cell_type": "code",
   "execution_count": null,
   "id": "74d6aa47",
   "metadata": {},
   "outputs": [],
   "source": [
    "# drop all Null data (filtering null values)\n",
    "data.dropna(inplace=True)"
   ]
  },
  {
   "cell_type": "code",
   "execution_count": null,
   "id": "791c3fa2",
   "metadata": {},
   "outputs": [],
   "source": [
    "# split the dataset into training and test data\n",
    "X = data.iloc[:,:-2]\n",
    "y = data[\"symptom_value\"]"
   ]
  },
  {
   "cell_type": "code",
   "execution_count": null,
   "id": "89deb786",
   "metadata": {},
   "outputs": [],
   "source": [
    "# split the dataset into training and test data\n",
    "X_train, X_test, y_train, y_test = train_test_split(X, y, test_size=0.2, random_state=42)"
   ]
  },
  {
   "cell_type": "code",
   "execution_count": null,
   "id": "7eff5b34",
   "metadata": {},
   "outputs": [],
   "source": [
    "# create a DMatrix for XGBoost\n",
    "dtrain = xgb.DMatrix(X_train, label=y_train)"
   ]
  },
  {
   "cell_type": "code",
   "execution_count": null,
   "id": "eda0904e",
   "metadata": {},
   "outputs": [],
   "source": [
    "# specify XGBoost parameters\n",
    "params = {'max_depth': 3, 'eta': 0.1, 'objective': 'reg:squarederror'}\n",
    "\n",
    "# train the model\n",
    "model = xgb.train(params, dtrain)"
   ]
  },
  {
   "cell_type": "code",
   "execution_count": null,
   "id": "4c8a186b",
   "metadata": {},
   "outputs": [],
   "source": [
    "# make predictions on the test set\n",
    "y_pred = model.predict(xgb.DMatrix(X_test))\n",
    "\n",
    "# calculate R-squared score\n",
    "r2 = r2_score(y_test, y_pred)\n",
    "print(\"R-squared score:\", r2)"
   ]
  },
  {
   "cell_type": "code",
   "execution_count": null,
   "id": "6cee58db",
   "metadata": {},
   "outputs": [],
   "source": [
    "# create an explainer object for SHAP\n",
    "explainer = shap.Explainer(y_pred, X)"
   ]
  },
  {
   "cell_type": "code",
   "execution_count": null,
   "id": "7521d3e6",
   "metadata": {},
   "outputs": [],
   "source": [
    "# calculate SHAP values for each feature for each instance\n",
    "shap_values = explainer(X)"
   ]
  },
  {
   "cell_type": "code",
   "execution_count": null,
   "id": "1122ee29",
   "metadata": {},
   "outputs": [],
   "source": [
    "# compute the sum of SHAP values for each food category across all instances\n",
    "food_shap_sum = shap_values.values[:,:-2].sum(axis=0)"
   ]
  },
  {
   "cell_type": "code",
   "execution_count": null,
   "id": "f005e877",
   "metadata": {},
   "outputs": [],
   "source": [
    "# keep track of the total SHAP value for each food category across all users\n",
    "food_shap_total = np.zeros_like(food_shap_sum)"
   ]
  },
  {
   "cell_type": "code",
   "execution_count": null,
   "id": "39b6b41b",
   "metadata": {},
   "outputs": [],
   "source": [
    "\n",
    "for i in range(MAX_USERS):\n",
    "    df = data[data['user_number'] == i]\n",
    "    X_user = df.iloc[:,:-2]\n",
    "    \n",
    "    # calculate SHAP values for the user's data\n",
    "    shap_values_user = explainer(X_user)\n",
    "    \n",
    "    # accumulate the SHAP values for each food category across all users\n",
    "    food_shap_total += shap_values_user.values[:,:-2].sum(axis=0)"
   ]
  },
  {
   "cell_type": "code",
   "execution_count": null,
   "id": "c9393e44",
   "metadata": {},
   "outputs": [],
   "source": [
    "# plot the total SHAP values for each food category\n",
    "food_labels = X.columns[:-2]\n",
    "plt.bar(food_labels, food_shap_total)\n",
    "plt.xlabel('Food categories')\n",
    "plt.ylabel('Total SHAP value')\n",
    "plt.show()\n"
   ]
  }
 ],
 "metadata": {
  "kernelspec": {
   "display_name": "Python 3 (ipykernel)",
   "language": "python",
   "name": "python3"
  },
  "language_info": {
   "codemirror_mode": {
    "name": "ipython",
    "version": 3
   },
   "file_extension": ".py",
   "mimetype": "text/x-python",
   "name": "python",
   "nbconvert_exporter": "python",
   "pygments_lexer": "ipython3",
   "version": "3.10.9"
  }
 },
 "nbformat": 4,
 "nbformat_minor": 5
}
